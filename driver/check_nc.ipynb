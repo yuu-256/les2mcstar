{
 "cells": [
  {
   "cell_type": "code",
   "execution_count": null,
   "metadata": {},
   "outputs": [],
   "source": [
    "### IMPORT LIBRARIES ###\n",
    "import os\n",
    "import netCDF4 as nc\n",
    "import matplotlib.pyplot as plt\n",
    "import numpy as np\n",
    "\n",
    "os.chdir('../')\n",
    "from module import libgen, libnc4\n",
    "os.chdir('./driver')"
   ]
  },
  {
   "cell_type": "code",
   "execution_count": null,
   "metadata": {},
   "outputs": [],
   "source": [
    "### GET A FILEPATH FOR A NETCDF FILE ###\n",
    "file_path = '../data/cld30.nc4'\n",
    "\n",
    "### OPEN THE NETCDF FILE ###\n",
    "dataset = nc.Dataset(file_path, 'r')\n",
    "\n",
    "### PRINT THE FILE AND VARIABLE INFORMATION ###\n",
    "print(\"file information:\")\n",
    "print(dataset)\n",
    "print(\"\\nVariables:\")\n",
    "for variable in dataset.variables:\n",
    "    print(variable)"
   ]
  },
  {
   "cell_type": "code",
   "execution_count": null,
   "metadata": {},
   "outputs": [],
   "source": [
    "### GET A VARIABLE FROM THE NETCDF FILE ###\n",
    "# var_name = 'XYZ_NDC'\n",
    "# var_name = 'XYZ_LWC'\n",
    "# var_name = 'DZ'\n",
    "var_name = 'ZC'\n",
    "data = dataset.variables[var_name][:]\n",
    "\n",
    "### PRINT THE VARIABLE DATA ###\n",
    "print(f\"{var_name}:\")\n",
    "print(data)\n",
    "\n",
    "### SHOW TEH SHAPE OF THE VARIABLE DATA ###\n",
    "print(f\"\\nShape of the data: {data.shape}\")"
   ]
  },
  {
   "cell_type": "code",
   "execution_count": null,
   "metadata": {},
   "outputs": [],
   "source": [
    "### PLOT A SLICE OF THE DATA ###\n",
    "libnc4.plot_slice_at_z(dataset, 'XYZ_LWC', 80)\n",
    "libnc4.plot_sum(dataset, 'XYZ_LWC')\n",
    "\n",
    "# libnc4.plot_slice_at_z(dataset, 'XYZ_NDC', 80)\n",
    "# libnc4.plot_sum(dataset, 'XYZ_NDC')"
   ]
  },
  {
   "cell_type": "code",
   "execution_count": null,
   "metadata": {},
   "outputs": [],
   "source": [
    "### SET CONSTANTS ###\n",
    "density_water = 1000.0 # Assumed density of water in kg/m^3\n",
    "\n",
    "### CALUCLATE VOLUME CONCENTRATION FROM LWC ###\n",
    "lwc = dataset.variables['XYZ_LWC'][:]\n",
    "volume_concentration = lwc / density_water\n",
    "\n",
    "### PLOT THE VOLUME CONCENTRATION ###\n",
    "volume_concentration[80,:,:]\n",
    "\n",
    "libnc4.plot_slice_at_z_simple(volume_concentration, 80)"
   ]
  },
  {
   "cell_type": "code",
   "execution_count": null,
   "metadata": {},
   "outputs": [],
   "source": [
    "### SAVE THE TEXT TO FILES ###\n",
    "for i in range(lwc.shape[0]):\n",
    "    slice_data = volume_concentration[i, :, :]\n",
    "    text = libgen.array_to_input(slice_data)\n",
    "    file_path = f'../data/volume_concentration_{i}.txt'\n",
    "    with open(file_path, 'w') as file:\n",
    "        file.write(text)"
   ]
  },
  {
   "cell_type": "code",
   "execution_count": null,
   "metadata": {},
   "outputs": [],
   "source": []
  },
  {
   "cell_type": "code",
   "execution_count": null,
   "metadata": {},
   "outputs": [],
   "source": [
    "### CLOSE THE NETCDF FILE ###\n",
    "dataset.close()"
   ]
  }
 ],
 "metadata": {
  "kernelspec": {
   "display_name": "base",
   "language": "python",
   "name": "python3"
  },
  "language_info": {
   "codemirror_mode": {
    "name": "ipython",
    "version": 3
   },
   "file_extension": ".py",
   "mimetype": "text/x-python",
   "name": "python",
   "nbconvert_exporter": "python",
   "pygments_lexer": "ipython3",
   "version": "3.12.4"
  }
 },
 "nbformat": 4,
 "nbformat_minor": 2
}
