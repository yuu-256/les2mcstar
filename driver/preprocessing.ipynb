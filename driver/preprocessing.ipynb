{
 "cells": [
  {
   "cell_type": "code",
   "execution_count": 139,
   "metadata": {},
   "outputs": [],
   "source": [
    "### IMPORT MODULES ###\n",
    "import os\n",
    "os.chdir('../')\n",
    "from module import libnc4, libgen\n",
    "os.chdir('./driver')\n",
    "\n",
    "### IMPORT LIBRARIES ###\n",
    "import netCDF4 as nc\n",
    "import matplotlib.pyplot as plt\n",
    "import numpy as np"
   ]
  },
  {
   "cell_type": "code",
   "execution_count": 17,
   "metadata": {},
   "outputs": [
    {
     "name": "stdout",
     "output_type": "stream",
     "text": [
      "file information:\n",
      "<class 'netCDF4._netCDF4.Dataset'>\n",
      "root group (NETCDF4 data model, file format HDF5):\n",
      "    dimensions(sizes): z(500), nv(2), zh(501), x(384), xh(384), y(384), yh(384), CZ(504), FZ(505), FDZ(503), CX(388), CY(388), FX(389), FY(389), CXG(388), CYG(388), FXG(389), FYG(389), FDXG(389), FDYG(389), time(1)\n",
      "    variables(dimensions): float32 T(time, z, y, x), float32 PRES(time, z, y, x)\n",
      "    groups: \n",
      "\n",
      "Variables:\n",
      "T\n",
      "PRES\n"
     ]
    }
   ],
   "source": [
    "### DEFINE FILE PATHS ###\n",
    "nc_path = '../data/ezaki_timeslice.nc'\n",
    "\n",
    "### OPEN THE NETCDF FILE ###\n",
    "dataset = nc.Dataset(nc_path, 'r')\n",
    "\n",
    "### PRINT THE FILE AND VARIABLE INFORMATION ###\n",
    "print(\"file information:\")\n",
    "print(dataset)\n",
    "print(\"\\nVariables:\")\n",
    "for variable in dataset.variables:\n",
    "    print(variable)"
   ]
  },
  {
   "cell_type": "code",
   "execution_count": 18,
   "metadata": {},
   "outputs": [
    {
     "name": "stdout",
     "output_type": "stream",
     "text": [
      "T:\n",
      "[[[[292.1072  292.10944 292.1211  ... 292.1246  292.11923 292.11212]\n",
      "   [292.11914 292.11136 292.10873 ... 292.11758 292.126   292.12567]\n",
      "   [292.12515 292.12308 292.11758 ... 292.08975 292.10422 292.1189 ]\n",
      "   ...\n",
      "   [292.1418  292.13602 292.1388  ... 292.1411  292.1472  292.14774]\n",
      "   [292.13727 292.1399  292.1443  ... 292.11868 292.1252  292.1324 ]\n",
      "   [292.1175  292.1288  292.14246 ... 292.11218 292.10895 292.11044]]\n",
      "\n",
      "  [[292.123   292.12936 292.14087 ... 292.13486 292.13184 292.1256 ]\n",
      "   [292.13477 292.12488 292.12445 ... 292.1221  292.13507 292.13983]\n",
      "   [292.13864 292.14056 292.1266  ... 292.09494 292.10675 292.1238 ]\n",
      "   ...\n",
      "   [292.21582 292.19772 292.15665 ... 292.18686 292.19824 292.20807]\n",
      "   [292.1878  292.17676 292.14792 ... 292.15692 292.16528 292.17664]\n",
      "   [292.1455  292.14893 292.14813 ... 292.13382 292.13126 292.1367 ]]\n",
      "\n",
      "  [[292.15057 292.1418  292.14166 ... 292.15408 292.1595  292.15857]\n",
      "   [292.14093 292.1371  292.1355  ... 292.11798 292.1373  292.14346]\n",
      "   [292.1329  292.13907 292.1387  ... 292.08572 292.0965  292.1171 ]\n",
      "   ...\n",
      "   [292.21658 292.22574 292.21692 ... 292.20728 292.20657 292.20486]\n",
      "   [292.2307  292.2316  292.2073  ... 292.18643 292.19366 292.2107 ]\n",
      "   [292.19345 292.17978 292.1648  ... 292.16632 292.1765  292.1921 ]]\n",
      "\n",
      "  ...\n",
      "\n",
      "  [[293.12173 293.12448 293.12698 ... 293.11844 293.1185  293.1196 ]\n",
      "   [293.12183 293.12482 293.1274  ... 293.1173  293.1177  293.11926]\n",
      "   [293.12326 293.1268  293.1297  ... 293.11676 293.11768 293.11996]\n",
      "   ...\n",
      "   [293.12744 293.12958 293.13098 ... 293.12384 293.1239  293.12527]\n",
      "   [293.12253 293.1263  293.12936 ... 293.11884 293.118   293.1194 ]\n",
      "   [293.1209  293.12442 293.12756 ... 293.11783 293.11722 293.11826]]\n",
      "\n",
      "  [[293.1053  293.1094  293.1126  ... 293.0999  293.09955 293.10156]\n",
      "   [293.1063  293.11008 293.113   ... 293.09998 293.10037 293.1027 ]\n",
      "   [293.11038 293.11353 293.11588 ... 293.10373 293.1048  293.1072 ]\n",
      "   ...\n",
      "   [293.11533 293.1167  293.11743 ... 293.11267 293.11282 293.11383]\n",
      "   [293.1113  293.11438 293.11652 ... 293.1076  293.10706 293.1085 ]\n",
      "   [293.10718 293.1113  293.11435 ... 293.10248 293.10175 293.10352]]\n",
      "\n",
      "  [[293.09848 293.10074 293.10175 ... 293.09262 293.09338 293.09567]\n",
      "   [293.09824 293.1003  293.10135 ... 293.0921  293.0933  293.09564]\n",
      "   [293.10068 293.1024  293.10327 ... 293.09476 293.0963  293.09848]\n",
      "   ...\n",
      "   [293.10434 293.10483 293.1047  ... 293.10217 293.10266 293.1035 ]\n",
      "   [293.10294 293.10428 293.10455 ... 293.09943 293.09982 293.1012 ]\n",
      "   [293.10068 293.10266 293.10333 ... 293.09573 293.09625 293.09818]]]]\n",
      "\n",
      "Shape of the data: (1, 500, 384, 384)\n"
     ]
    }
   ],
   "source": [
    "### GET A VARIABLE FROM THE NETCDF FILE ###\n",
    "var_name = 'T'\n",
    "# var_name = 'PRES'\n",
    "data = dataset.variables[var_name][:]\n",
    "\n",
    "# ### PRINT THE VARIABLE DATA ###\n",
    "print(f\"{var_name}:\")\n",
    "print(data)\n",
    "\n",
    "### SHOW TEH SHAPE OF THE VARIABLE DATA ###\n",
    "print(f\"\\nShape of the data: {data.shape}\")"
   ]
  },
  {
   "cell_type": "code",
   "execution_count": 19,
   "metadata": {},
   "outputs": [
    {
     "data": {
      "text/plain": [
       "array([   2,    4,    6,    8,   10,   12,   14,   16,   18,   20,   22,\n",
       "         24,   26,   28,   30,   32,   34,   36,   38,   40,   42,   44,\n",
       "         46,   48,   50,   52,   54,   56,   58,   60,   62,   64,   66,\n",
       "         68,   70,   72,   74,   76,   78,   80,   82,   84,   86,   88,\n",
       "         90,   92,   94,   96,   98,  100,  102,  104,  106,  108,  110,\n",
       "        112,  114,  116,  118,  120,  122,  124,  126,  128,  130,  132,\n",
       "        134,  136,  138,  140,  142,  144,  146,  148,  150,  152,  154,\n",
       "        156,  158,  160,  162,  164,  166,  168,  170,  172,  174,  176,\n",
       "        178,  180,  182,  184,  186,  188,  190,  192,  194,  196,  198,\n",
       "        200,  202,  204,  206,  208,  210,  212,  214,  216,  218,  220,\n",
       "        222,  224,  226,  228,  230,  232,  234,  236,  238,  240,  242,\n",
       "        244,  246,  248,  250,  252,  254,  256,  258,  260,  262,  264,\n",
       "        266,  268,  270,  272,  274,  276,  278,  280,  282,  284,  286,\n",
       "        288,  290,  292,  294,  296,  298,  300,  302,  304,  306,  308,\n",
       "        310,  312,  314,  316,  318,  320,  322,  324,  326,  328,  330,\n",
       "        332,  334,  336,  338,  340,  342,  344,  346,  348,  350,  352,\n",
       "        354,  356,  358,  360,  362,  364,  366,  368,  370,  372,  374,\n",
       "        376,  378,  380,  382,  384,  386,  388,  390,  392,  394,  396,\n",
       "        398,  400,  402,  404,  406,  408,  410,  412,  414,  416,  418,\n",
       "        420,  422,  424,  426,  428,  430,  432,  434,  436,  438,  440,\n",
       "        442,  444,  446,  448,  450,  452,  454,  456,  458,  460,  462,\n",
       "        464,  466,  468,  470,  472,  474,  476,  478,  480,  482,  484,\n",
       "        486,  488,  490,  492,  494,  496,  498,  500,  502,  504,  506,\n",
       "        508,  510,  512,  514,  516,  518,  520,  522,  524,  526,  528,\n",
       "        530,  532,  534,  536,  538,  540,  542,  544,  546,  548,  550,\n",
       "        552,  554,  556,  558,  560,  562,  564,  566,  568,  570,  572,\n",
       "        574,  576,  578,  580,  582,  584,  586,  588,  590,  592,  594,\n",
       "        596,  598,  600,  602,  604,  606,  608,  610,  612,  614,  616,\n",
       "        618,  620,  622,  624,  626,  628,  630,  632,  634,  636,  638,\n",
       "        640,  642,  644,  646,  648,  650,  652,  654,  656,  658,  660,\n",
       "        662,  664,  666,  668,  670,  672,  674,  676,  678,  680,  682,\n",
       "        684,  686,  688,  690,  692,  694,  696,  698,  700,  702,  704,\n",
       "        706,  708,  710,  712,  714,  716,  718,  720,  722,  724,  726,\n",
       "        728,  730,  732,  734,  736,  738,  740,  742,  744,  746,  748,\n",
       "        750,  752,  754,  756,  758,  760,  762,  764,  766,  768,  770,\n",
       "        772,  774,  776,  778,  780,  782,  784,  786,  788,  790,  792,\n",
       "        794,  796,  798,  800,  802,  804,  806,  808,  810,  812,  814,\n",
       "        816,  818,  820,  822,  824,  826,  828,  830,  832,  834,  836,\n",
       "        838,  840,  842,  844,  846,  848,  850,  852,  854,  856,  858,\n",
       "        860,  862,  864,  866,  868,  870,  872,  874,  876,  878,  880,\n",
       "        882,  884,  886,  888,  890,  892,  894,  896,  898,  900,  902,\n",
       "        904,  906,  908,  910,  912,  914,  916,  918,  920,  922,  924,\n",
       "        926,  928,  930,  932,  934,  936,  938,  940,  942,  944,  946,\n",
       "        948,  950,  952,  954,  956,  958,  960,  962,  964,  966,  968,\n",
       "        970,  972,  974,  976,  978,  980,  982,  984,  986,  988,  990,\n",
       "        992,  994,  996,  998, 1000])"
      ]
     },
     "execution_count": 19,
     "metadata": {},
     "output_type": "execute_result"
    }
   ],
   "source": [
    "# (time, z, y, x)\n",
    "T = dataset.variables['T'][0,:,:,:]\n",
    "T[90,:,:]\n",
    "\n",
    "### GIVE NEW VARIABLE: HEIGHT ###\n",
    "height_list = np.array([i for i in range(2, 1002, 2)])\n",
    "height_list"
   ]
  },
  {
   "cell_type": "code",
   "execution_count": 63,
   "metadata": {},
   "outputs": [],
   "source": [
    "### FIND THE CLOSEST NUMBER IN THE LIST ###\n",
    "def find_closest_number(list, number):\n",
    "    return list[np.abs(list - number).argmin()]\n",
    "\n",
    "### GET THE INDEX OF THE HEIGHT ###\n",
    "def get_height_index(list, height):\n",
    "    return np.where(list == find_closest_number(list, height))[0][0]\n",
    "\n",
    "### MATCH Z RESOLUTION OF OBJ FILE TO REF FILE Z ###\n",
    "def convert_resolution(pth_obj, pth_ref):\n",
    "    \n",
    "    ### Create a list to store the index of the height in the object data\n",
    "    ind_list = []\n",
    "    \n",
    "    ### Open the netCDF files\n",
    "    obj_data = nc.Dataset(pth_obj, 'r')\n",
    "    ref_data = nc.Dataset(pth_ref, 'r')\n",
    "    \n",
    "    ### Get the object data\n",
    "    P_list_obj = obj_data.variables['PRES'][0,:,:,:]\n",
    "    T_list_obj = obj_data.variables['T'][0,:,:,:]\n",
    "    \n",
    "    # Get the height list\n",
    "    height_list_obj = np.array([i for i in range(2, 1002, 2)])\n",
    "    height_list_ref = ref_data.variables['ZC'][0:100]\n",
    "    \n",
    "    ### Find the index of the height in the reference data\n",
    "    for i in height_list_ref:\n",
    "        ind = get_height_index(height_list_obj, i)\n",
    "        ind_list.append(ind)\n",
    "        \n",
    "    ### Make the new height list from index list\n",
    "    P_list_new = P_list_obj[ind_list]\n",
    "    T_list_new = T_list_obj[ind_list]\n",
    "    \n",
    "    return P_list_new, T_list_new\n",
    "\n",
    "PRES,T = convert_resolution('../data/ezaki_timeslice.nc', '../data/cld30.nc4')"
   ]
  },
  {
   "cell_type": "code",
   "execution_count": 103,
   "metadata": {},
   "outputs": [],
   "source": [
    "### get average(x,y) of the data\n",
    "T_prof_z = np.mean(T, axis=(1,2))\n",
    "PRES_prof_z = np.mean(PRES, axis=(1,2))\n",
    "\n",
    "### 小数点第二位で四捨五入\n",
    "T_prof_z = np.round(T_prof_z, 2)\n",
    "PRES_prof_z = np.round(PRES_prof_z, 2)"
   ]
  },
  {
   "cell_type": "code",
   "execution_count": 50,
   "metadata": {},
   "outputs": [
    {
     "data": {
      "text/plain": [
       "[<matplotlib.lines.Line2D at 0x10b80a8a0>]"
      ]
     },
     "execution_count": 50,
     "metadata": {},
     "output_type": "execute_result"
    },
    {
     "data": {
      "image/png": "[encoded data removed]",
      "text/plain": [
       "<Figure size 640x480 with 1 Axes>"
      ]
     },
     "metadata": {},
     "output_type": "display_data"
    }
   ],
   "source": [
    "### PLOT THE DATA ###\n",
    "# plt.figure()\n",
    "plt.plot(T_prof_z)"
   ]
  },
  {
   "cell_type": "code",
   "execution_count": 104,
   "metadata": {},
   "outputs": [
    {
     "data": {
      "text/plain": [
       "masked_array(data=[99941.23, 99824.41, 99707.75, 99591.23, 99474.79,\n",
       "                   99358.51, 99242.35, 99126.27, 99010.3 , 98894.48,\n",
       "                   98778.75, 98663.13, 98547.65, 98432.28, 98317.03,\n",
       "                   98201.88, 98086.84, 97971.88, 97857.  , 97742.25,\n",
       "                   97627.62, 97513.02, 97398.54, 97284.16, 97169.88,\n",
       "                   97055.71, 96941.62, 96827.62, 96713.74, 96599.89,\n",
       "                   96486.23, 96372.61, 96259.04, 96145.62, 96032.27,\n",
       "                   95919.04, 95805.91, 95692.88, 95579.96, 95467.11,\n",
       "                   95354.36, 95241.64, 95129.12, 95016.62, 94904.24,\n",
       "                   94791.93, 94679.75, 94567.63, 94455.62, 94343.74,\n",
       "                   94231.9 , 94120.22, 94008.59, 93897.03, 93785.62,\n",
       "                   93674.26, 93563.01, 93451.88, 93340.79, 93229.88,\n",
       "                   93119.  , 93008.25, 92897.53, 92786.98, 92676.48,\n",
       "                   92566.09, 92455.77, 92345.62, 92235.49, 92125.49,\n",
       "                   92015.52, 91905.74, 91796.  , 91686.38, 91576.83,\n",
       "                   91467.38, 91358.  , 91248.75, 91139.54, 91030.49,\n",
       "                   90921.51, 90812.62, 90703.77, 90595.12, 90486.49,\n",
       "                   90377.97, 90269.51, 90161.15, 90053.02, 89945.34,\n",
       "                   89838.05, 89731.25, 89624.88, 89519.01, 89413.62,\n",
       "                   89308.63, 89204.12, 89100.12, 88996.38, 88892.75],\n",
       "             mask=False,\n",
       "       fill_value=1e+20,\n",
       "            dtype=float32)"
      ]
     },
     "execution_count": 104,
     "metadata": {},
     "output_type": "execute_result"
    }
   ],
   "source": [
    "PRES_prof_z = np.round(PRES_prof_z, 3)\n",
    "PRES_prof_z"
   ]
  },
  {
   "cell_type": "code",
   "execution_count": 111,
   "metadata": {},
   "outputs": [
    {
     "name": "stdout",
     "output_type": "stream",
     "text": [
      "[99941.23 99824.41 99707.75 99591.23 99474.79 99358.51 99242.35 99126.27\n",
      " 99010.3  98894.48 98778.75 98663.13 98547.65 98432.28 98317.03 98201.88\n",
      " 98086.84 97971.88 97857.   97742.25 97627.62 97513.02 97398.54 97284.16\n",
      " 97169.88 97055.71 96941.62 96827.62 96713.74 96599.89 96486.23 96372.61\n",
      " 96259.04 96145.62 96032.27 95919.04 95805.91 95692.88 95579.96 95467.11\n",
      " 95354.36 95241.64 95129.12 95016.62 94904.24 94791.93 94679.75 94567.63\n",
      " 94455.62 94343.74 94231.9  94120.22 94008.59 93897.03 93785.62 93674.26\n",
      " 93563.01 93451.88 93340.79 93229.88 93119.   93008.25 92897.53 92786.98\n",
      " 92676.48 92566.09 92455.77 92345.62 92235.49 92125.49 92015.52 91905.74\n",
      " 91796.   91686.38 91576.83 91467.38 91358.   91248.75 91139.54 91030.49\n",
      " 90921.51 90812.62 90703.77 90595.12 90486.49 90377.97 90269.51 90161.15\n",
      " 90053.02 89945.34 89838.05 89731.25 89624.88 89519.01 89413.62 89308.63\n",
      " 89204.12 89100.12 88996.38 88892.75]\n",
      "99941.2265625 99824.40625 99707.75 99591.2265625 99474.7890625 99358.5078125 99242.3515625 99126.2734375 99010.296875 98894.4765625 98778.75 98663.1328125 98547.6484375 98432.28125 98317.03125 98201.8828125 98086.84375 97971.8828125 97857.0 97742.25 97627.6171875 97513.0234375 97398.5390625 97284.15625 97169.8828125 97055.7109375 96941.6171875 96827.6171875 96713.7421875 96599.890625 96486.2265625 96372.609375 96259.0390625 96145.6171875 96032.2734375 95919.0390625 95805.90625 95692.8828125 95579.9609375 95467.109375 95354.359375 95241.640625 95129.1171875 95016.6171875 94904.2421875 94791.9296875 94679.75 94567.6328125 94455.6171875 94343.7421875 94231.8984375 94120.21875 94008.59375 93897.03125 93785.6171875 93674.2578125 93563.0078125 93451.8828125 93340.7890625 93229.8828125 93119.0 93008.25 92897.53125 92786.9765625 92676.4765625 92566.09375 92455.7734375 92345.6171875 92235.4921875 92125.4921875 92015.5234375 91905.7421875 91796.0 91686.3828125 91576.828125 91467.3828125 91358.0 91248.75 91139.5390625 91030.4921875 90921.5078125 90812.6171875 90703.7734375 90595.1171875 90486.4921875 90377.96875 90269.5078125 90161.1484375 90053.0234375 89945.34375 89838.046875 89731.25 89624.8828125 89519.0078125 89413.6171875 89308.6328125 89204.1171875 89100.1171875 88996.3828125 88892.75 \n"
     ]
    }
   ],
   "source": [
    "rand_list = np.array([i for i in range(5, 1000, 10)])\n",
    "\n",
    "rand_list\n",
    "\n",
    "### MAKE TEXT THAT INCLUDE LIST OF NUMBERS ###\n",
    "def make_text(list):\n",
    "    \n",
    "    list = np.round(list, 2)\n",
    "    print(list)\n",
    "    text = ''\n",
    "    for i in list:\n",
    "        text += f\"{i} \"\n",
    "        if i % 10 == 0:\n",
    "            text += '\\n'\n",
    "    return text\n",
    "\n",
    "PRES_prof_z_4 = PRES_prof_z*10**(-2)\n",
    "text = make_text(PRES_prof_z)\n",
    "print(text)"
   ]
  },
  {
   "cell_type": "code",
   "execution_count": 121,
   "metadata": {},
   "outputs": [
    {
     "data": {
      "text/plain": [
       "'0.15 0.15 0.15 0.15 0.15 0.15 0.15 0.15 0.15 0.15 0.15 0.15 0.15 0.15 0.15 0.15 0.15 0.15 0.15 0.15 0.15 0.15 0.15 0.15 0.15 0.15 0.15 0.15 0.15 0.15 0.15 0.15 0.15 0.15 0.15 0.15 0.15 0.15 0.15 0.15 0.15 0.15 0.15 0.15 0.15 0.15 0.15 0.15 0.15 0.15 0.15 0.15 0.15 0.15 0.15 0.15 0.15 0.15 0.15 0.15 0.15 0.15 0.15 0.15 0.15 0.15 0.15 0.15 0.15 0.15 0.15 0.15 0.15 0.15 0.15 0.15 0.15 0.15 0.15 0.15 0.15 0.15 0.15 0.15 0.15 0.15 0.15 0.15 0.15 0.15 0.15 0.15 0.15 0.15 0.15 0.15 0.15 0.15 0.15 0.15 '"
      ]
     },
     "execution_count": 121,
     "metadata": {},
     "output_type": "execute_result"
    }
   ],
   "source": [
    "def clone_num(num, n):\n",
    "    text = ''\n",
    "    for i in range(n):\n",
    "        text += f\"{num} \"\n",
    "        if i+1 % 10 == 0:\n",
    "            text += '\\n'\n",
    "    return text\n",
    "\n",
    "list_num = clone_num(1.500E-01, 100)\n",
    "list_num"
   ]
  },
  {
   "cell_type": "code",
   "execution_count": 131,
   "metadata": {},
   "outputs": [
    {
     "data": {
      "text/plain": [
       "'995 985 975 965 955 945 935 925 915 905 895 885 875 865 855 845 835 825 815 805 795 785 775 765 755 745 735 725 715 705 695 685 675 665 655 645 635 625 615 605 595 585 575 565 555 545 535 525 515 505 495 485 475 465 455 445 435 425 415 405 395 385 375 365 355 345 335 325 315 305 295 285 275 265 255 245 235 225 215 205 195 185 175 165 155 145 135 125 115 105 95 85 75 65 55 45 35 25 15 5 '"
      ]
     },
     "execution_count": 131,
     "metadata": {},
     "output_type": "execute_result"
    }
   ],
   "source": [
    "lis = []\n",
    "for i in range(0, 100):\n",
    "    lis.append(995-10*i)\n",
    "\n",
    "list = np.array(lis)\n",
    "\n",
    "### Change num to text\n",
    "def change_num_to_text(list):\n",
    "    text = ''\n",
    "    for i in list:\n",
    "        text += f\"{i} \"\n",
    "        if i % 10 == 0:\n",
    "            text += '\\n'\n",
    "    return text\n",
    "\n",
    "change_num_to_text(list)"
   ]
  },
  {
   "cell_type": "code",
   "execution_count": 145,
   "metadata": {},
   "outputs": [
    {
     "data": {
      "text/plain": [
       "'1 0.05 0.05\\n1 0.05 0.15000000000000002\\n1 0.05 0.25000000000000006\\n1 0.05 0.35000000000000003\\n1 0.05 0.45000000000000007\\n1 0.05 0.5500000000000002\\n1 0.05 0.6500000000000001\\n1 0.05 0.7500000000000002\\n1 0.05 0.8500000000000002\\n1 0.05 0.9500000000000002\\n1 0.15000000000000002 0.05\\n1 0.15000000000000002 0.15000000000000002\\n1 0.15000000000000002 0.25000000000000006\\n1 0.15000000000000002 0.35000000000000003\\n1 0.15000000000000002 0.45000000000000007\\n1 0.15000000000000002 0.5500000000000002\\n1 0.15000000000000002 0.6500000000000001\\n1 0.15000000000000002 0.7500000000000002\\n1 0.15000000000000002 0.8500000000000002\\n1 0.15000000000000002 0.9500000000000002\\n1 0.25000000000000006 0.05\\n1 0.25000000000000006 0.15000000000000002\\n1 0.25000000000000006 0.25000000000000006\\n1 0.25000000000000006 0.35000000000000003\\n1 0.25000000000000006 0.45000000000000007\\n1 0.25000000000000006 0.5500000000000002\\n1 0.25000000000000006 0.6500000000000001\\n1 0.25000000000000006 0.7500000000000002\\n1 0.25000000000000006 0.8500000000000002\\n1 0.25000000000000006 0.9500000000000002\\n1 0.35000000000000003 0.05\\n1 0.35000000000000003 0.15000000000000002\\n1 0.35000000000000003 0.25000000000000006\\n1 0.35000000000000003 0.35000000000000003\\n1 0.35000000000000003 0.45000000000000007\\n1 0.35000000000000003 0.5500000000000002\\n1 0.35000000000000003 0.6500000000000001\\n1 0.35000000000000003 0.7500000000000002\\n1 0.35000000000000003 0.8500000000000002\\n1 0.35000000000000003 0.9500000000000002\\n1 0.45000000000000007 0.05\\n1 0.45000000000000007 0.15000000000000002\\n1 0.45000000000000007 0.25000000000000006\\n1 0.45000000000000007 0.35000000000000003\\n1 0.45000000000000007 0.45000000000000007\\n1 0.45000000000000007 0.5500000000000002\\n1 0.45000000000000007 0.6500000000000001\\n1 0.45000000000000007 0.7500000000000002\\n1 0.45000000000000007 0.8500000000000002\\n1 0.45000000000000007 0.9500000000000002\\n1 0.5500000000000002 0.05\\n1 0.5500000000000002 0.15000000000000002\\n1 0.5500000000000002 0.25000000000000006\\n1 0.5500000000000002 0.35000000000000003\\n1 0.5500000000000002 0.45000000000000007\\n1 0.5500000000000002 0.5500000000000002\\n1 0.5500000000000002 0.6500000000000001\\n1 0.5500000000000002 0.7500000000000002\\n1 0.5500000000000002 0.8500000000000002\\n1 0.5500000000000002 0.9500000000000002\\n1 0.6500000000000001 0.05\\n1 0.6500000000000001 0.15000000000000002\\n1 0.6500000000000001 0.25000000000000006\\n1 0.6500000000000001 0.35000000000000003\\n1 0.6500000000000001 0.45000000000000007\\n1 0.6500000000000001 0.5500000000000002\\n1 0.6500000000000001 0.6500000000000001\\n1 0.6500000000000001 0.7500000000000002\\n1 0.6500000000000001 0.8500000000000002\\n1 0.6500000000000001 0.9500000000000002\\n1 0.7500000000000002 0.05\\n1 0.7500000000000002 0.15000000000000002\\n1 0.7500000000000002 0.25000000000000006\\n1 0.7500000000000002 0.35000000000000003\\n1 0.7500000000000002 0.45000000000000007\\n1 0.7500000000000002 0.5500000000000002\\n1 0.7500000000000002 0.6500000000000001\\n1 0.7500000000000002 0.7500000000000002\\n1 0.7500000000000002 0.8500000000000002\\n1 0.7500000000000002 0.9500000000000002\\n1 0.8500000000000002 0.05\\n1 0.8500000000000002 0.15000000000000002\\n1 0.8500000000000002 0.25000000000000006\\n1 0.8500000000000002 0.35000000000000003\\n1 0.8500000000000002 0.45000000000000007\\n1 0.8500000000000002 0.5500000000000002\\n1 0.8500000000000002 0.6500000000000001\\n1 0.8500000000000002 0.7500000000000002\\n1 0.8500000000000002 0.8500000000000002\\n1 0.8500000000000002 0.9500000000000002\\n1 0.9500000000000002 0.05\\n1 0.9500000000000002 0.15000000000000002\\n1 0.9500000000000002 0.25000000000000006\\n1 0.9500000000000002 0.35000000000000003\\n1 0.9500000000000002 0.45000000000000007\\n1 0.9500000000000002 0.5500000000000002\\n1 0.9500000000000002 0.6500000000000001\\n1 0.9500000000000002 0.7500000000000002\\n1 0.9500000000000002 0.8500000000000002\\n1 0.9500000000000002 0.9500000000000002'"
      ]
     },
     "execution_count": 145,
     "metadata": {},
     "output_type": "execute_result"
    }
   ],
   "source": [
    "\n",
    "\n",
    "list = np.array([])\n",
    "\n",
    "\n",
    "for i in np.arange(0.05, 1.00, 0.10):\n",
    "    for j in np.arange(0.05, 1.00, 0.10):\n",
    "        list = np.append(list, f'1 {i} {j}')\n",
    "\n",
    "def list_to_text(list):\n",
    "    text_output = '\\n'.join(list)\n",
    "    return text_output\n",
    "\n",
    "text = list_to_text(list)\n",
    "\n",
    "file_path = f'../data/view_points10x10.txt'\n",
    "with open(file_path, 'w') as file:\n",
    "    file.write(text)\n",
    "\n",
    "\n",
    "text\n",
    "\n",
    "\n",
    "\n",
    "# text = libgen.array_to_input(array)\n",
    "        \n",
    "# array"
   ]
  },
  {
   "cell_type": "code",
   "execution_count": null,
   "metadata": {},
   "outputs": [],
   "source": [
    "1 0.05 0.05\\n\n",
    "1 0.05 0.15000000000000002\\n1 0.05 0.25000000000000006\\n1 0.05 0.35000000000000003\\n1 0.05 0.45000000000000007\\n1 0.05 0.5500000000000002\\n1 0.05 0.6500000000000001\\n1 0.05 0.7500000000000002\\n1 0.05 0.8500000000000002\\n1 0.05 0.9500000000000002\\n1 0.15000000000000002 0.05\\n1 0.15000000000000002 0.15000000000000002\\n1 0.15000000000000002 0.25000000000000006\\n1 0.15000000000000002 0.35000000000000003\\n1 0.15000000000000002 0.45000000000000007\\n1 0.15000000000000002 0.5500000000000002\\n1 0.15000000000000002 0.6500000000000001\\n1 0.15000000000000002 0.7500000000000002\\n1 0.15000000000000002 0.8500000000000002\\n1 0.15000000000000002 0.9500000000000002\\n1 0.25000000000000006 0.05\\n1 0.25000000000000006 0.15000000000000002\\n1 0.25000000000000006 0.25000000000000006\\n1 0.25000000000000006 0.35000000000000003\\n1 0.25000000000000006 0.45000000000000007\\n1 0.25000000000000006 0.5500000000000002\\n1 0.25000000000000006 0.6500000000000001\\n1 0.25000000000000006 0.7500000000000002\\n1 0.25000000000000006 0.8500000000000002\\n1 0.25000000000000006 0.9500000000000002\\n1 0.35000000000000003 0.05\\n1 0.35000000000000003 0.15000000000000002\\n1 0.35000000000000003 0.25000000000000006\\n1 0.35000000000000003 0.35000000000000003\\n1 0.35000000000000003 0.45000000000000007\\n1 0.35000000000000003 0.5500000000000002\\n1 0.35000000000000003 0.6500000000000001\\n1 0.35000000000000003 0.7500000000000002\\n1 0.35000000000000003 0.8500000000000002\\n1 0.35000000000000003 0.9500000000000002\\n1 0.45000000000000007 0.05\\n1 0.45000000000000007 0.15000000000000002\\n1 0.45000000000000007 0.25000000000000006\\n1 0.45000000000000007 0.35000000000000003\\n1 0.45000000000000007 0.45000000000000007\\n1 0.45000000000000007 0.5500000000000002\\n1 0.45000000000000007 0.6500000000000001\\n1 0.45000000000000007 0.7500000000000002\\n1 0.45000000000000007 0.8500000000000002\\n1 0.45000000000000007 0.9500000000000002\\n1 0.5500000000000002 0.05\\n1 0.5500000000000002 0.15000000000000002\\n1 0.5500000000000002 0.25000000000000006\\n1 0.5500000000000002 0.35000000000000003\\n1 0.5500000000000002 0.45000000000000007\\n1 0.5500000000000002 0.5500000000000002\\n1 0.5500000000000002 0.6500000000000001\\n1 0.5500000000000002 0.7500000000000002\\n1 0.5500000000000002 0.8500000000000002\\n1 0.5500000000000002 0.9500000000000002\\n1 0.6500000000000001 0.05\\n1 0.6500000000000001 0.15000000000000002\\n1 0.6500000000000001 0.25000000000000006\\n1 0.6500000000000001 0.35000000000000003\\n1 0.6500000000000001 0.45000000000000007\\n1 0.6500000000000001 0.5500000000000002\\n1 0.6500000000000001 0.6500000000000001\\n1 0.6500000000000001 0.7500000000000002\\n1 0.6500000000000001 0.8500000000000002\\n1 0.6500000000000001 0.9500000000000002\\n1 0.7500000000000002 0.05\\n1 0.7500000000000002 0.15000000000000002\\n1 0.7500000000000002 0.25000000000000006\\n1 0.7500000000000002 0.35000000000000003\\n1 0.7500000000000002 0.45000000000000007\\n1 0.7500000000000002 0.5500000000000002\\n1 0.7500000000000002 0.6500000000000001\\n1 0.7500000000000002 0.7500000000000002\\n1 0.7500000000000002 0.8500000000000002\\n1 0.7500000000000002 0.9500000000000002\\n1 0.8500000000000002 0.05\\n1 0.8500000000000002 0.15000000000000002\\n1 0.8500000000000002 0.25000000000000006\\n1 0.8500000000000002 0.35000000000000003\\n1 0.8500000000000002 0.45000000000000007\\n1 0.8500000000000002 0.5500000000000002\\n1 0.8500000000000002 0.6500000000000001\\n1 0.8500000000000002 0.7500000000000002\\n1 0.8500000000000002 0.8500000000000002\\n1 0.8500000000000002 0.9500000000000002\\n1 0.9500000000000002 0.05\\n1 0.9500000000000002 0.15000000000000002\\n1 0.9500000000000002 0.25000000000000006\\n1 0.9500000000000002 0.35000000000000003\\n1 0.9500000000000002 0.45000000000000007\\n1 0.9500000000000002 0.5500000000000002\\n1 0.9500000000000002 0.6500000000000001\\n1 0.9500000000000002 0.7500000000000002\\n1 0.9500000000000002 0.8500000000000002\\n1 0.9500000000000002 0.9500000000000002"
   ]
  }
 ],
 "metadata": {
  "kernelspec": {
   "display_name": "base",
   "language": "python",
   "name": "python3"
  },
  "language_info": {
   "codemirror_mode": {
    "name": "ipython",
    "version": 3
   },
   "file_extension": ".py",
   "mimetype": "text/x-python",
   "name": "python",
   "nbconvert_exporter": "python",
   "pygments_lexer": "ipython3",
   "version": "3.12.4"
  }
 },
 "nbformat": 4,
 "nbformat_minor": 2
}
