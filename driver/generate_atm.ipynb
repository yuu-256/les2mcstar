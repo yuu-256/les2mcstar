{
 "cells": [
  {
   "cell_type": "code",
   "execution_count": 1,
   "metadata": {},
   "outputs": [],
   "source": [
    "### IMPORT LIBRARIES ###\n",
    "import os\n",
    "import netCDF4 as nc\n",
    "import matplotlib.pyplot as plt\n",
    "import numpy as np\n",
    "\n",
    "os.chdir('../')\n",
    "from module import libgen, libnc4\n",
    "os.chdir('./driver')"
   ]
  },
  {
   "cell_type": "code",
   "execution_count": 2,
   "metadata": {},
   "outputs": [],
   "source": [
    "row = 10\n",
    "col = 10\n",
    "text = libgen.generate_random_coeff(row, col)"
   ]
  },
  {
   "cell_type": "code",
   "execution_count": 3,
   "metadata": {},
   "outputs": [
    {
     "name": "stdout",
     "output_type": "stream",
     "text": [
      "0.7 0.4 0.5 0.7 0.9 0.8 0.6 0.5 0.4 0.3\n",
      "0.1 0.7 0.1 0.3 1.0 0.9 0.4 0.2 0.1 0.1\n",
      "0.5 0.4 0.7 0.8 0.6 0.1 0.0 0.4 0.3 0.4\n",
      "0.6 0.6 0.7 0.6 0.6 0.4 0.3 0.1 0.7 0.2\n",
      "0.5 0.3 0.3 0.5 0.6 0.6 0.4 0.1 0.6 0.9\n",
      "0.9 0.9 0.1 0.8 0.4 0.3 0.8 0.8 0.4 0.4\n",
      "0.9 0.0 0.4 0.9 0.2 0.6 0.5 0.3 0.4 0.6\n",
      "0.1 0.4 0.7 0.4 0.0 0.5 0.5 0.1 0.8 0.7\n",
      "0.9 0.1 0.0 0.3 1.0 0.1 0.7 0.2 0.9 0.9\n",
      "0.6 0.8 0.4 0.2 0.4 0.2 1.0 0.6 0.3 0.3\n"
     ]
    }
   ],
   "source": [
    "print(text)"
   ]
  }
 ],
 "metadata": {
  "kernelspec": {
   "display_name": "base",
   "language": "python",
   "name": "python3"
  },
  "language_info": {
   "codemirror_mode": {
    "name": "ipython",
    "version": 3
   },
   "file_extension": ".py",
   "mimetype": "text/x-python",
   "name": "python",
   "nbconvert_exporter": "python",
   "pygments_lexer": "ipython3",
   "version": "3.12.4"
  }
 },
 "nbformat": 4,
 "nbformat_minor": 2
}
